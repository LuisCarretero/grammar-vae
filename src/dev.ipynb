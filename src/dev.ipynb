{
 "cells": [
  {
   "cell_type": "code",
   "execution_count": 1,
   "metadata": {},
   "outputs": [],
   "source": [
    "import numpy as np\n",
    "import torch\n",
    "import torch.nn as nn\n",
    "from torch.autograd import Variable\n",
    "\n",
    "from model import GrammarVAE\n",
    "from util import Timer, AnnealKL, load_data"
   ]
  },
  {
   "cell_type": "code",
   "execution_count": 2,
   "metadata": {},
   "outputs": [],
   "source": [
    "# Init model, dont train it and generate some equations\n",
    "ENCODER_HIDDEN = 20\n",
    "Z_SIZE = 2\n",
    "DECODER_HIDDEN = 20\n",
    "RNN_TYPE = 'lstm'\n",
    "BATCH_SIZE = 32\n",
    "MAX_LENGTH = 15\n",
    "OUTPUT_SIZE = 12\n",
    "LR = 1e-2\n",
    "CLIP = 5.\n",
    "PRINT_EVERY = 100\n",
    "EPOCHS = 3\n",
    "\n",
    "model = GrammarVAE(ENCODER_HIDDEN, Z_SIZE, DECODER_HIDDEN, OUTPUT_SIZE, RNN_TYPE)"
   ]
  },
  {
   "cell_type": "code",
   "execution_count": 9,
   "metadata": {},
   "outputs": [
    {
     "name": "stdout",
     "output_type": "stream",
     "text": [
      "tensor([[ 0.1680, -0.2196],\n",
      "        [ 0.1450, -0.2121]], grad_fn=<AddmmBackward0>) tensor([[0.7805, 0.7860],\n",
      "        [0.8027, 0.7900]], grad_fn=<SoftplusBackward0>)\n",
      "torch.Size([2, 15, 12])\n"
     ]
    }
   ],
   "source": [
    "batch_size = 2\n",
    "x = torch.randn(batch_size, OUTPUT_SIZE, MAX_LENGTH)  # OUTPUT_SIZE: number of rules (for 1-hot encoding)\n",
    "mu, sigma = model.encoder(x)\n",
    "print(mu, sigma)  # z\n",
    "\n",
    "logits = model.decoder(mu, 15)\n",
    "print(logits.shape)"
   ]
  },
  {
   "cell_type": "code",
   "execution_count": 126,
   "metadata": {},
   "outputs": [
    {
     "name": "stdout",
     "output_type": "stream",
     "text": [
      "mu = tensor([[-0.1692,  0.0015]], grad_fn=<AddmmBackward0>)\n",
      "[S -> S '+' T, S -> S '+' T, S -> S '+' T, S -> S '+' T, S -> S '+' T, S -> S '+' T, S -> S '+' T, S -> S '+' T, S -> S '+' T, S -> S '+' T, S -> S '+' T, S -> S '+' T, S -> S '+' T, S -> S '+' T, S -> S '+' T]\n",
      "Invalid. Too many rules.\n"
     ]
    }
   ],
   "source": [
    "# torch.manual_seed(0)\n",
    "\n",
    "import model as m\n",
    "from importlib import reload\n",
    "import util\n",
    "reload(m)\n",
    "\n",
    "# Init model, dont train it and generate some equations\n",
    "ENCODER_HIDDEN = 20\n",
    "Z_SIZE = 2\n",
    "DECODER_HIDDEN = 20\n",
    "RNN_TYPE = 'lstm'\n",
    "BATCH_SIZE = 32\n",
    "MAX_LENGTH = 15\n",
    "OUTPUT_SIZE = 12\n",
    "LR = 1e-2\n",
    "CLIP = 5.\n",
    "PRINT_EVERY = 100\n",
    "EPOCHS = 3\n",
    "\n",
    "model = m.GrammarVAE(ENCODER_HIDDEN, Z_SIZE, DECODER_HIDDEN, OUTPUT_SIZE, RNN_TYPE)  # .to(device='mps')\n",
    "\n",
    "batch_size = 1\n",
    "x = torch.randn(batch_size, OUTPUT_SIZE, MAX_LENGTH).to(model.device) * 10  # OUTPUT_SIZE: number of rules (for 1-hot encoding)\n",
    "mu, sigma = model.encoder(x)\n",
    "print(f'{mu = }')\n",
    "\n",
    "rules = model.generate(mu, sample=False, max_length=15)\n",
    "print(rules)\n",
    "\n",
    "if len(rules) < 15:\n",
    "    tree = util.make_nltk_tree(rules)\n",
    "    print(tree)\n",
    "else:\n",
    "    print('Invalid. Too many rules.')"
   ]
  },
  {
   "cell_type": "code",
   "execution_count": 89,
   "metadata": {},
   "outputs": [
    {
     "name": "stdout",
     "output_type": "stream",
     "text": [
      "(S (T 3))\n"
     ]
    }
   ],
   "source": [
    "tree.pprint()"
   ]
  },
  {
   "cell_type": "code",
   "execution_count": 124,
   "metadata": {},
   "outputs": [
    {
     "data": {
      "text/plain": [
       "True"
      ]
     },
     "execution_count": 124,
     "metadata": {},
     "output_type": "execute_result"
    }
   ],
   "source": [
    "next(model.parameters()).is_mps"
   ]
  },
  {
   "cell_type": "code",
   "execution_count": null,
   "metadata": {},
   "outputs": [],
   "source": [
    "device = (\n",
    "    \"cuda\"\n",
    "    if torch.cuda.is_available()\n",
    "    else \"mps\"\n",
    "    if torch.backends.mps.is_available()\n",
    "    else \"cpu\"\n",
    ")\n",
    "print(f\"Using {device} device\")"
   ]
  },
  {
   "cell_type": "code",
   "execution_count": null,
   "metadata": {},
   "outputs": [],
   "source": []
  },
  {
   "cell_type": "code",
   "execution_count": null,
   "metadata": {},
   "outputs": [],
   "source": []
  },
  {
   "cell_type": "code",
   "execution_count": 106,
   "metadata": {},
   "outputs": [],
   "source": [
    "import re\n",
    "import nltk\n",
    "import grammar\n",
    "\n",
    "MAX_LEN = 15\n",
    "\n",
    "eqs = ['sin(x*2)',\n",
    "      'exp(x)+x',\n",
    "      'x/3',\n",
    "      '3*exp(2/x)']\n",
    "\n",
    "datapath = r'/Users/luis/Desktop/Cranmer 2024/Workplace/smallMutations/grammarVAE-keras/data/equation2_15_dataset.txt'\n",
    "with open(datapath, 'r') as f:\n",
    "    eqs = f.readlines()\n",
    "    eqs = [eq.strip('\\n') for eq in eqs]\n",
    "eqs = eqs[:1000]\n",
    "\n",
    "def tokenize(s):\n",
    "    funcs = ['sin', 'exp']\n",
    "    for fn in funcs: s = s.replace(fn+'(', fn+' ')\n",
    "    s = re.sub(r'([^a-z ])', r' \\1 ', s)\n",
    "    for fn in funcs: s = s.replace(fn, fn+'(')\n",
    "    return s.split()\n",
    "\n",
    "_productions = grammar.GCFG.productions()\n",
    "_tokenize = tokenize\n",
    "_parser = nltk.ChartParser(grammar.GCFG)\n",
    "_n_chars = len(_productions)\n",
    "\n",
    "_prod_map = {}\n",
    "for ix, prod in enumerate(_productions):\n",
    "    _prod_map[prod] = ix\n",
    "\n",
    "\n",
    "def onehot_encode(eqs):\n",
    "    assert type(eqs) == list\n",
    "    tokens = map(_tokenize, eqs)\n",
    "    parse_trees = [next(_parser.parse(t)) for t in tokens]\n",
    "    productions_seq = [tree.productions() for tree in parse_trees]\n",
    "\n",
    "    indices = [np.array([_prod_map[prod] for prod in entry], dtype=int) for entry in productions_seq]\n",
    "\n",
    "    one_hot = np.zeros((len(indices), MAX_LEN, _n_chars), dtype=np.float32)\n",
    "    for i in range(len(indices)):\n",
    "        num_productions = len(indices[i])\n",
    "        one_hot[i][np.arange(num_productions),indices[i]] = 1.\n",
    "        one_hot[i][np.arange(num_productions, MAX_LEN),-1] = 1.\n",
    "    return one_hot\n",
    "\n",
    "one_hot = onehot_encode(eqs)"
   ]
  },
  {
   "cell_type": "code",
   "execution_count": 128,
   "metadata": {},
   "outputs": [],
   "source": [
    "import h5py\n",
    "\n",
    "output_path = r'/Users/luis/Desktop/Cranmer 2024/Workplace/smallMutations/grammar-vae/data/equation2_15_dataset_parsed.h5'\n",
    "\n",
    "with h5py.File(output_path, 'w') as f:\n",
    "    f.create_dataset('data', data=one_hot)\n"
   ]
  },
  {
   "cell_type": "code",
   "execution_count": 111,
   "metadata": {},
   "outputs": [
    {
     "data": {
      "image/png": "[encoded data removed]",
      "text/plain": [
       "<Figure size 640x480 with 1 Axes>"
      ]
     },
     "metadata": {},
     "output_type": "display_data"
    },
    {
     "data": {
      "text/plain": [
       "array([[[1., 0., 0., ..., 0., 0., 0.],\n",
       "        [1., 0., 0., ..., 0., 0., 0.],\n",
       "        [1., 0., 0., ..., 0., 0., 0.],\n",
       "        ...,\n",
       "        [0., 0., 0., ..., 0., 0., 0.],\n",
       "        [0., 0., 0., ..., 0., 0., 0.],\n",
       "        [0., 0., 0., ..., 0., 0., 1.]],\n",
       "\n",
       "       [[1., 0., 0., ..., 0., 0., 0.],\n",
       "        [1., 0., 0., ..., 0., 0., 0.],\n",
       "        [1., 0., 0., ..., 0., 0., 0.],\n",
       "        ...,\n",
       "        [0., 0., 0., ..., 0., 0., 0.],\n",
       "        [0., 0., 0., ..., 0., 0., 0.],\n",
       "        [0., 0., 0., ..., 0., 0., 1.]],\n",
       "\n",
       "       [[1., 0., 0., ..., 0., 0., 0.],\n",
       "        [1., 0., 0., ..., 0., 0., 0.],\n",
       "        [1., 0., 0., ..., 0., 0., 0.],\n",
       "        ...,\n",
       "        [0., 0., 0., ..., 0., 0., 0.],\n",
       "        [0., 0., 0., ..., 1., 0., 0.],\n",
       "        [0., 0., 0., ..., 0., 0., 1.]],\n",
       "\n",
       "       ...,\n",
       "\n",
       "       [[1., 0., 0., ..., 0., 0., 0.],\n",
       "        [1., 0., 0., ..., 0., 0., 0.],\n",
       "        [1., 0., 0., ..., 0., 0., 0.],\n",
       "        ...,\n",
       "        [0., 0., 0., ..., 0., 0., 0.],\n",
       "        [0., 0., 0., ..., 0., 0., 0.],\n",
       "        [0., 0., 0., ..., 0., 0., 1.]],\n",
       "\n",
       "       [[1., 0., 0., ..., 0., 0., 0.],\n",
       "        [1., 0., 0., ..., 0., 0., 0.],\n",
       "        [1., 0., 0., ..., 0., 0., 0.],\n",
       "        ...,\n",
       "        [0., 0., 0., ..., 0., 0., 0.],\n",
       "        [0., 0., 0., ..., 1., 0., 0.],\n",
       "        [0., 0., 0., ..., 0., 0., 1.]],\n",
       "\n",
       "       [[1., 0., 0., ..., 0., 0., 0.],\n",
       "        [1., 0., 0., ..., 0., 0., 0.],\n",
       "        [1., 0., 0., ..., 0., 0., 0.],\n",
       "        ...,\n",
       "        [0., 0., 0., ..., 0., 0., 0.],\n",
       "        [0., 0., 0., ..., 0., 1., 0.],\n",
       "        [0., 0., 0., ..., 0., 0., 1.]]], dtype=float32)"
      ]
     },
     "execution_count": 111,
     "metadata": {},
     "output_type": "execute_result"
    }
   ],
   "source": [
    "from matplotlib import pyplot as plt\n",
    "\n",
    "plt.imshow(one_hot[4, ...])\n",
    "plt.show()\n",
    "\n",
    "one_hot"
   ]
  }
 ],
 "metadata": {
  "kernelspec": {
   "display_name": "learning_drl",
   "language": "python",
   "name": "python3"
  },
  "language_info": {
   "codemirror_mode": {
    "name": "ipython",
    "version": 3
   },
   "file_extension": ".py",
   "mimetype": "text/x-python",
   "name": "python",
   "nbconvert_exporter": "python",
   "pygments_lexer": "ipython3",
   "version": "3.12.4"
  }
 },
 "nbformat": 4,
 "nbformat_minor": 2
}
